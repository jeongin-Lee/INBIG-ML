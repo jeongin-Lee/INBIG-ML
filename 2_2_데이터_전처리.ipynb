{
  "nbformat": 4,
  "nbformat_minor": 0,
  "metadata": {
    "colab": {
      "name": "2-2 데이터 전처리.ipynb",
      "provenance": [],
      "authorship_tag": "ABX9TyPAKaPsYHgODXsIU6tTvuxb",
      "include_colab_link": true
    },
    "kernelspec": {
      "name": "python3",
      "display_name": "Python 3"
    },
    "language_info": {
      "name": "python"
    }
  },
  "cells": [
    {
      "cell_type": "markdown",
      "metadata": {
        "id": "view-in-github",
        "colab_type": "text"
      },
      "source": [
        "<a href=\"https://colab.research.google.com/github/jeongin-Lee/INBIG-ML/blob/main/2_2_%EB%8D%B0%EC%9D%B4%ED%84%B0_%EC%A0%84%EC%B2%98%EB%A6%AC.ipynb\" target=\"_parent\"><img src=\"https://colab.research.google.com/assets/colab-badge.svg\" alt=\"Open In Colab\"/></a>"
      ]
    },
    {
      "cell_type": "markdown",
      "metadata": {
        "id": "gJA3p4a2BW4J"
      },
      "source": [
        "# 2-2 데이터 전처리   \n",
        "\n",
        "---\n",
        "\n",
        "\n",
        "## key word : <데이터 전처리, 표준점수, 브로드캐스팅>\n",
        "\n",
        "1.   올바른 결과 도출을 위해서 데이터를 사용하기 전에 데이터 전처리 과정을 거쳐야 함.\n",
        "\n",
        "2.   전처리 과정을 거친 데이터로 훈련했을 때의 차이를 알고 표준점수로 특성의 스케일을 변환하는 방법을 배움.\n"
      ]
    },
    {
      "cell_type": "markdown",
      "metadata": {
        "id": "ZWtQQ72mnjGW"
      },
      "source": [
        "## 1) 넘파이로 데이터 준비하기 -> np.cloumn.stack() / np.concatenate()"
      ]
    },
    {
      "cell_type": "code",
      "metadata": {
        "id": "LI5YDzETAkLc"
      },
      "source": [
        "fish_length = [25.4, 26.3, 26.5, 29.0, 29.0, 29.7, 29.7, 30.0, 30.0, 30.7, 31.0, 31.0, \n",
        "                31.5, 32.0, 32.0, 32.0, 33.0, 33.0, 33.5, 33.5, 34.0, 34.0, 34.5, 35.0, \n",
        "                35.0, 35.0, 35.0, 36.0, 36.0, 37.0, 38.5, 38.5, 39.5, 41.0, 41.0, 9.8, \n",
        "                10.5,\n",
        "                10.6, 11.0, 11.2, 11.3, 11.8, 11.8, 12.0, 12.2, 12.4, 13.0, 14.3, 15.0]\n",
        "fish_weight = [242.0, 290.0, 340.0, 363.0, 430.0, 450.0, 500.0, 390.0, 450.0, 500.0, 475.0, 500.0, \n",
        "                500.0, 340.0, 600.0, 600.0, 700.0, 700.0, 610.0, 650.0, 575.0, 685.0, 620.0, 680.0, \n",
        "                700.0, 725.0, 720.0, 714.0, 850.0, 1000.0, 920.0, 955.0, 925.0, 975.0, 950.0, 6.7, \n",
        "                7.5, 7.0, 9.7, 9.8, 8.7, 10.0, 9.9, 9.8, 12.2, 13.4, 12.2, 19.7, 19.9]"
      ],
      "execution_count": null,
      "outputs": []
    },
    {
      "cell_type": "code",
      "metadata": {
        "id": "W98knDRjCloD"
      },
      "source": [
        "import numpy as np"
      ],
      "execution_count": null,
      "outputs": []
    },
    {
      "cell_type": "code",
      "metadata": {
        "colab": {
          "base_uri": "https://localhost:8080/"
        },
        "id": "8X4E2gUQCob5",
        "outputId": "555bfe9b-b8ef-45f3-8cf0-ef2f709a8bfa"
      },
      "source": [
        "np.column_stack(([1,2,3],[4,5,6]))  # column stack 사용해보기, 꼭 ! 튜플로 전달"
      ],
      "execution_count": null,
      "outputs": [
        {
          "output_type": "execute_result",
          "data": {
            "text/plain": [
              "array([[1, 4],\n",
              "       [2, 5],\n",
              "       [3, 6]])"
            ]
          },
          "metadata": {},
          "execution_count": 3
        }
      ]
    },
    {
      "cell_type": "code",
      "metadata": {
        "colab": {
          "base_uri": "https://localhost:8080/"
        },
        "id": "LMmkdz4DCt8p",
        "outputId": "9f3673a2-2424-443c-c073-d8173856bac2"
      },
      "source": [
        "fish_data = np.column_stack((fish_length, fish_weight))\n",
        "print(fish_data[:5])"
      ],
      "execution_count": null,
      "outputs": [
        {
          "output_type": "stream",
          "name": "stdout",
          "text": [
            "[[ 25.4 242. ]\n",
            " [ 26.3 290. ]\n",
            " [ 26.5 340. ]\n",
            " [ 29.  363. ]\n",
            " [ 29.  430. ]]\n"
          ]
        }
      ]
    },
    {
      "cell_type": "code",
      "metadata": {
        "colab": {
          "base_uri": "https://localhost:8080/"
        },
        "id": "dRlJHbwGoArH",
        "outputId": "dc605c87-1d43-4035-94ca-afcd961f4ab4"
      },
      "source": [
        "fish_target = np.concatenate((np.ones(35), np.zeros(14))) # concatenate 사용해보기, 꼭 ! 튜플로 전달\n",
        "print(fish_target[:5])"
      ],
      "execution_count": null,
      "outputs": [
        {
          "output_type": "stream",
          "name": "stdout",
          "text": [
            "[1. 1. 1. 1. 1.]\n"
          ]
        }
      ]
    },
    {
      "cell_type": "markdown",
      "metadata": {
        "id": "IiXwfhWdo9Dq"
      },
      "source": [
        "## 2) 사이킷런으로 훈련 세트와 테스트 세트 나누기\n",
        "\n",
        "\n",
        "*   train_test_split() : model_Selection 모듈 아래 있음\n",
        "*   기본 25%를 테스트 시트로 떼어냄.(statify = 타깃데이터 라고 설정시  클래스 비율에 따라 훈련데이터와 테스트데이터를 나눔)\n",
        "\n",
        "\n",
        "\n"
      ]
    },
    {
      "cell_type": "code",
      "metadata": {
        "id": "eKAOpOd1oXc9"
      },
      "source": [
        "from sklearn.model_selection import train_test_split\n",
        "train_input,test_input,train_target,test_target = train_test_split(fish_data,fish_target,random_state=42)"
      ],
      "execution_count": null,
      "outputs": []
    },
    {
      "cell_type": "code",
      "metadata": {
        "colab": {
          "base_uri": "https://localhost:8080/"
        },
        "id": "nRqj91HqqAWe",
        "outputId": "b6739049-447f-4d89-8920-a4c81b6623bf"
      },
      "source": [
        "print(train_input.shape, test_input.shape) # 넘파이 배열의 크기는 튜플 형태로 표현"
      ],
      "execution_count": null,
      "outputs": [
        {
          "output_type": "stream",
          "name": "stdout",
          "text": [
            "(36, 2) (13, 2)\n"
          ]
        }
      ]
    },
    {
      "cell_type": "code",
      "metadata": {
        "colab": {
          "base_uri": "https://localhost:8080/"
        },
        "id": "ZGgZ8hp2qXUf",
        "outputId": "b5e6e380-2b94-43ea-b8e2-f119c445aebc"
      },
      "source": [
        "print(train_target.shape, test_target.shape) # 넘파이 배열의 크기는 튜플 형태로 표현 + 1차원일 때 튜플은 원소뒤에 콤마가 추가됨."
      ],
      "execution_count": null,
      "outputs": [
        {
          "output_type": "stream",
          "name": "stdout",
          "text": [
            "(36,) (13,)\n"
          ]
        }
      ]
    },
    {
      "cell_type": "code",
      "metadata": {
        "colab": {
          "base_uri": "https://localhost:8080/"
        },
        "id": "3kB9gRZuroAG",
        "outputId": "73294041-a6f5-4fac-e4f3-721df2a8105f"
      },
      "source": [
        "print(test_target)"
      ],
      "execution_count": null,
      "outputs": [
        {
          "output_type": "stream",
          "name": "stdout",
          "text": [
            "[1. 0. 0. 0. 1. 1. 1. 1. 1. 1. 1. 1. 1.]\n"
          ]
        }
      ]
    },
    {
      "cell_type": "code",
      "metadata": {
        "colab": {
          "base_uri": "https://localhost:8080/"
        },
        "id": "QB862ASVqr8k",
        "outputId": "9131688f-e6d4-413e-d11a-17ab8761bc19"
      },
      "source": [
        "train_input,test_input,train_target,test_target = train_test_split(fish_data,fish_target,stratify=fish_target,random_state=42)\n",
        "print(test_target.shape,test_target)   # 아까보다 빙어가 하나 늘어남 - why? stratify 매개변수에 타깃 데이터를 전달하여 클래스 비율에 맞게 데이터를 나눠줌\n",
        "#  기존 (도미:빙어 = 3.3:1)  / 현재(도미:빙어=2.25:1) /원본데이터 (도미:빙어= 2.5:1) "
      ],
      "execution_count": null,
      "outputs": [
        {
          "output_type": "stream",
          "name": "stdout",
          "text": [
            "(13,) [0. 0. 1. 0. 1. 0. 1. 1. 1. 1. 1. 1. 1.]\n"
          ]
        }
      ]
    },
    {
      "cell_type": "markdown",
      "metadata": {
        "id": "LNqmEOeAplF2"
      },
      "source": [
        "## 3) 수상한 도미 한 마리 -> 기준을 맞춰라 !  \n",
        "\n",
        "*   x축과 y축의 다른 범위 크기가 거리에 영향을 줌.\n",
        "*   정규화를 통한 변화량의 기준 맞춰주기\n",
        "두 특성의 범위(스케일)이 다르면 알고리즘이 올바르게 예측할 수 없음.\n",
        "거리 기반 알고리즘일 때는 특히 더 심각,, 이 때 필요한 것이 데이터 전처리 ! \n",
        "#### 표준점수 : 각 특성값이 평균에서 표준편차의 몇배만큼 떨어져있는지를 나타냄 \n"
      ]
    },
    {
      "cell_type": "code",
      "metadata": {
        "colab": {
          "base_uri": "https://localhost:8080/"
        },
        "id": "CwplRsPcoVa8",
        "outputId": "92955096-570d-4da6-d757-39301e3a24df"
      },
      "source": [
        "from sklearn.neighbors import KNeighborsClassifier\n",
        "kn = KNeighborsClassifier()\n",
        "kn.fit(train_input,train_target)\n",
        "kn.score(test_input,test_target)"
      ],
      "execution_count": null,
      "outputs": [
        {
          "output_type": "execute_result",
          "data": {
            "text/plain": [
              "1.0"
            ]
          },
          "metadata": {},
          "execution_count": 72
        }
      ]
    },
    {
      "cell_type": "code",
      "metadata": {
        "colab": {
          "base_uri": "https://localhost:8080/"
        },
        "id": "uHfj0JYWoIQv",
        "outputId": "ccc0b102-6c71-44a3-8846-b8f9d4554200"
      },
      "source": [
        "print(kn.predict([[25,150]]))   # 도미 데이터에 가깝지만 결과는 빙어로 나오는 이유 ?! -> 다음 셀에서 산점도로 확인"
      ],
      "execution_count": null,
      "outputs": [
        {
          "output_type": "stream",
          "name": "stdout",
          "text": [
            "[0.]\n"
          ]
        }
      ]
    },
    {
      "cell_type": "code",
      "metadata": {
        "colab": {
          "base_uri": "https://localhost:8080/"
        },
        "id": "FPho9VuQux99",
        "outputId": "9705832c-2b30-4fee-9805-ada76cc8051b"
      },
      "source": [
        "distances, indexes = kn.kneighbors([[25,150]])  # kneighborsclassifier는 kneighbors 메서드를 제공함.- 이웃까지의 거리와 이웃 샘플의 인덱스를 반환함.\n",
        "print(distances, indexes)  # 기본 이웃값 5개이기 때문에 5개를 반환함."
      ],
      "execution_count": null,
      "outputs": [
        {
          "output_type": "stream",
          "name": "stdout",
          "text": [
            "[[ 92.00086956 130.48375378 130.73859415 138.32150953 138.39320793]] [[21 33 19 30  1]]\n"
          ]
        }
      ]
    },
    {
      "cell_type": "code",
      "metadata": {
        "colab": {
          "base_uri": "https://localhost:8080/",
          "height": 282
        },
        "id": "YZaWQdWzuKsM",
        "outputId": "85accbaa-b9f1-48c0-b494-bd7f63666bf8"
      },
      "source": [
        "import matplotlib.pyplot as plt\n",
        "plt.scatter(train_input[:,0],train_input[:,1])\n",
        "plt.scatter(train_input[indexes,0],train_input[indexes, 1])\n",
        "plt.scatter(25,150, marker='^')\n",
        "# 도미데이터에 가깝지만 빙어로 나오는 이유는 y값과 x값의 범위의 크기가 달라서임을 알 수 있음."
      ],
      "execution_count": null,
      "outputs": [
        {
          "output_type": "execute_result",
          "data": {
            "text/plain": [
              "<matplotlib.collections.PathCollection at 0x7fa6542f3550>"
            ]
          },
          "metadata": {},
          "execution_count": 75
        },
        {
          "output_type": "display_data",
          "data": {
            "image/png": "[encoded data removed]",
            "text/plain": [
              "<Figure size 432x288 with 1 Axes>"
            ]
          },
          "metadata": {
            "needs_background": "light"
          }
        }
      ]
    },
    {
      "cell_type": "code",
      "metadata": {
        "colab": {
          "base_uri": "https://localhost:8080/"
        },
        "id": "sewOSNFCvNtk",
        "outputId": "79d0bc3e-998c-4386-931c-ae438848d513"
      },
      "source": [
        "print(train_target[indexes], distances)"
      ],
      "execution_count": null,
      "outputs": [
        {
          "output_type": "stream",
          "name": "stdout",
          "text": [
            "[[1. 0. 0. 0. 0.]] [[ 92.00086956 130.48375378 130.73859415 138.32150953 138.39320793]]\n"
          ]
        }
      ]
    },
    {
      "cell_type": "code",
      "metadata": {
        "colab": {
          "base_uri": "https://localhost:8080/",
          "height": 297
        },
        "id": "dKY9e5OFwgBZ",
        "outputId": "21521d3c-cfee-49c0-aab5-9a89f34fde76"
      },
      "source": [
        "import matplotlib.pyplot as plt\n",
        "plt.scatter(train_input[:,0],train_input[:,1])\n",
        "plt.scatter(train_input[indexes,0],train_input[indexes, 1])\n",
        "plt.scatter(25,150, marker='^')\n",
        "plt.xlim((0,1000))\n",
        "plt.xlabel('length')\n",
        "plt.xlabel('weight')"
      ],
      "execution_count": null,
      "outputs": [
        {
          "output_type": "execute_result",
          "data": {
            "text/plain": [
              "Text(0.5, 0, 'weight')"
            ]
          },
          "metadata": {},
          "execution_count": 82
        },
        {
          "output_type": "display_data",
          "data": {
            "image/png": "[encoded data removed]",
            "text/plain": [
              "<Figure size 432x288 with 1 Axes>"
            ]
          },
          "metadata": {
            "needs_background": "light"
          }
        }
      ]
    },
    {
      "cell_type": "code",
      "metadata": {
        "id": "Qa45aILmz44D"
      },
      "source": [
        "mean = np.mean(train_input, axis=0)  # 열기준으로 계산 -> axis=0\n",
        "std = np.std(train_input, axis=0)"
      ],
      "execution_count": null,
      "outputs": []
    },
    {
      "cell_type": "code",
      "metadata": {
        "id": "rarN0QCf0VhL"
      },
      "source": [
        "# 넘파이의 브로드캐스팅을 통한 간단한 계산 이용\n",
        "train_scaled = (train_input - mean) / std"
      ],
      "execution_count": null,
      "outputs": []
    },
    {
      "cell_type": "markdown",
      "metadata": {
        "id": "R_Ri9_lN0830"
      },
      "source": [
        "## 4) 전처리 데이터로 모델 훈련하기\n",
        "\n",
        "\n",
        "*   표준점수로 변환한 train_scaled를 활용한 모델 훈련\n",
        "*   새로운 샘플도 훈련세트의 평균을 이용하여 표준점수로 변환해야 함.\n"
      ]
    },
    {
      "cell_type": "code",
      "metadata": {
        "colab": {
          "base_uri": "https://localhost:8080/",
          "height": 297
        },
        "id": "i_mVApSE0JFF",
        "outputId": "1d7ec821-8bb7-4e84-e0f3-d8f78b6ec30c"
      },
      "source": [
        "new= ([25,150]-mean)/std\n",
        "plt.scatter(train_scaled[:,0],train_scaled[:,1])\n",
        "plt.scatter(new[0],new[1],marker='^')\n",
        "plt.xlabel('length')\n",
        "plt.xlabel('weight')\n",
        "# x축 y축의 범위가 -1.5 ~ 1.5 사이로 축소됨 + 아까의 산점도와 형태는 비슷함."
      ],
      "execution_count": null,
      "outputs": [
        {
          "output_type": "execute_result",
          "data": {
            "text/plain": [
              "Text(0.5, 0, 'weight')"
            ]
          },
          "metadata": {},
          "execution_count": 95
        },
        {
          "output_type": "display_data",
          "data": {
            "image/png": "[encoded data removed]",
            "text/plain": [
              "<Figure size 432x288 with 1 Axes>"
            ]
          },
          "metadata": {
            "needs_background": "light"
          }
        }
      ]
    },
    {
      "cell_type": "code",
      "metadata": {
        "colab": {
          "base_uri": "https://localhost:8080/"
        },
        "id": "Nil_FUTx132r",
        "outputId": "af9ce280-a78c-47fc-e146-9ba4954c92bf"
      },
      "source": [
        "kn.fit(train_scaled, train_target)\n",
        "test_scaled = (test_input-mean) / std\n",
        "kn.score(test_scaled, test_target)"
      ],
      "execution_count": null,
      "outputs": [
        {
          "output_type": "execute_result",
          "data": {
            "text/plain": [
              "1.0"
            ]
          },
          "metadata": {},
          "execution_count": 100
        }
      ]
    },
    {
      "cell_type": "code",
      "metadata": {
        "colab": {
          "base_uri": "https://localhost:8080/"
        },
        "id": "Sr5Em7412c9Z",
        "outputId": "01bfde54-219b-4770-f9ec-e668ea265412"
      },
      "source": [
        "print(kn.predict(([new]))) # 결과값이 도미로 올바르게 나옴 ! "
      ],
      "execution_count": null,
      "outputs": [
        {
          "output_type": "stream",
          "name": "stdout",
          "text": [
            "[1.]\n"
          ]
        }
      ]
    },
    {
      "cell_type": "code",
      "metadata": {
        "colab": {
          "base_uri": "https://localhost:8080/",
          "height": 297
        },
        "id": "dwsfaXMr2i6y",
        "outputId": "1a67dbc0-abd6-4200-847c-d53d54f3646c"
      },
      "source": [
        "distances, indexes = kn.kneighbors([new])\n",
        "plt.scatter(train_scaled[:,0],train_scaled[:,1])\n",
        "plt.scatter(new[0],new[1],marker='^')\n",
        "plt.scatter(train_scaled[indexes,0],train_scaled[indexes,1])\n",
        "plt.xlabel('length')\n",
        "plt.xlabel('weight')\n",
        "\n",
        "# 표준점수로 변환 후 거리를 측정하였으므로 가장 가까운 이웃에 변화가 생겼을 것으로 기대할 수 있음.\n",
        "# 가장 가까운 샘플들은 빙어가 아닌 도미로 확인됨 ! \n",
        "# 기존의 산점도에서는 y값의 변화량의 영향이 매우 커 빙어로측정된 반면 표준점수로 데이터 전처리 후에는 특정 특성값의 스케일에 민감하지 않고 안정적인 예측이 가능한 모델을 만듬 ! \n"
      ],
      "execution_count": null,
      "outputs": [
        {
          "output_type": "execute_result",
          "data": {
            "text/plain": [
              "Text(0.5, 0, 'weight')"
            ]
          },
          "metadata": {},
          "execution_count": 107
        },
        {
          "output_type": "display_data",
          "data": {
            "image/png": "[encoded data removed]",
            "text/plain": [
              "<Figure size 432x288 with 1 Axes>"
            ]
          },
          "metadata": {
            "needs_background": "light"
          }
        }
      ]
    }
  ]
}