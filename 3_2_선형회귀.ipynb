{
  "nbformat": 4,
  "nbformat_minor": 0,
  "metadata": {
    "colab": {
      "name": "3-2 선형회귀.ipynb",
      "provenance": [],
      "collapsed_sections": [
        "0_2Y7WsW9EMD",
        "x3jGgDi54mp6",
        "3AOXPg7boyFR",
        "yB6mzLQRdk0f"
      ],
      "toc_visible": true,
      "authorship_tag": "ABX9TyOL+qspsx5Lj3QpvqOCKF3S",
      "include_colab_link": true
    },
    "kernelspec": {
      "name": "python3",
      "display_name": "Python 3"
    },
    "language_info": {
      "name": "python"
    }
  },
  "cells": [
    {
      "cell_type": "markdown",
      "metadata": {
        "id": "view-in-github",
        "colab_type": "text"
      },
      "source": [
        "<a href=\"https://colab.research.google.com/github/jeongin-Lee/INBIG-ML/blob/main/3_2_%EC%84%A0%ED%98%95%ED%9A%8C%EA%B7%80.ipynb\" target=\"_parent\"><img src=\"https://colab.research.google.com/assets/colab-badge.svg\" alt=\"Open In Colab\"/></a>"
      ]
    },
    {
      "cell_type": "markdown",
      "metadata": {
        "id": "0_2Y7WsW9EMD"
      },
      "source": [
        "## 3-2 선형 회귀  (농어의 무게를 예측할 수 있을까?)\n",
        "\n",
        "---\n",
        "\n",
        "\n",
        "## key word : <선형회귀,계수 또는 가중치, 모델 파라미터, 다항회귀>\n",
        "\n",
        "1.  k-최근접 이웃 회귀와 선형 회귀 알고리즘의 차이를 이해하고 사이킷런을 사용해 여러가지 선형회귀 모델을 만들어 봅니다. \n",
        "\n",
        "*    K-최근접 이웃 회귀\n",
        "        *   회귀 : 두 변수 사이의 상관관계를 분석하는 방법항목 추가\n",
        "        *   K-최근접 이웃 회귀 : 예측하려는 샘플 k개를 선택하여 이웃 샘플의 수치를 사용해 평균을 구하여 예측.항목 추가\n",
        "\n",
        "*    선형회귀\n",
        "        *   회귀 : 두 변수 사이의 상관관계를 분석하는 방법항목 추가\n",
        "        *   K-최근접 이웃 회귀 : 예측하려는 샘플 k개를 선택하여 이웃 샘플의 수치를 사용해 평균을 구하여 예측.항목 추가\n",
        "\n",
        "\n",
        "\n"
      ]
    },
    {
      "cell_type": "markdown",
      "metadata": {
        "id": "ZWtQQ72mnjGW"
      },
      "source": [
        "## 1) k-최근접 이웃의 한계\n",
        "\n",
        "\n"
      ]
    },
    {
      "cell_type": "code",
      "metadata": {
        "id": "gUAzf1ve9guZ"
      },
      "source": [
        "import numpy as np\n",
        "perch_length = np.array([8.4, 13.7, 15.0, 16.2, 17.4, 18.0, 18.7, 19.0, 19.6, 20.0, 21.0,\n",
        "       21.0, 21.0, 21.3, 22.0, 22.0, 22.0, 22.0, 22.0, 22.5, 22.5, 22.7,\n",
        "       23.0, 23.5, 24.0, 24.0, 24.6, 25.0, 25.6, 26.5, 27.3, 27.5, 27.5,\n",
        "       27.5, 28.0, 28.7, 30.0, 32.8, 34.5, 35.0, 36.5, 36.0, 37.0, 37.0,\n",
        "       39.0, 39.0, 39.0, 40.0, 40.0, 40.0, 40.0, 42.0, 43.0, 43.0, 43.5,\n",
        "       44.0])\n",
        "perch_weight = np.array([5.9, 32.0, 40.0, 51.5, 70.0, 100.0, 78.0, 80.0, 85.0, 85.0, 110.0,\n",
        "       115.0, 125.0, 130.0, 120.0, 120.0, 130.0, 135.0, 110.0, 130.0,\n",
        "       150.0, 145.0, 150.0, 170.0, 225.0, 145.0, 188.0, 180.0, 197.0,\n",
        "       218.0, 300.0, 260.0, 265.0, 250.0, 250.0, 300.0, 320.0, 514.0,\n",
        "       556.0, 840.0, 685.0, 700.0, 700.0, 690.0, 900.0, 650.0, 820.0,\n",
        "       850.0, 900.0, 1015.0, 820.0, 1100.0, 1000.0, 1100.0, 1000.0,\n",
        "       1000.0])"
      ],
      "execution_count": 1,
      "outputs": []
    },
    {
      "cell_type": "code",
      "metadata": {
        "colab": {
          "base_uri": "https://localhost:8080/"
        },
        "id": "hALrnDrU-NS8",
        "outputId": "901a5cc5-4acc-4662-d933-07e5f888db45"
      },
      "source": [
        "from sklearn.model_selection import train_test_split\n",
        "\n",
        "# 데이터를 훈련세트와 테스트 세트로 나누기\n",
        "train_input, test_input, train_target, test_target = train_test_split(perch_length, perch_weight, random_state=42)\n",
        "\n",
        "# 훈련세트와 테스트 세트를 이차원 배열로 바꾸기\n",
        "train_input = train_input.reshape(-1,1)\n",
        "test_input = test_input.reshape(-1,1)\n",
        "\n",
        "train_input"
      ],
      "execution_count": 6,
      "outputs": [
        {
          "output_type": "execute_result",
          "data": {
            "text/plain": [
              "array([[19.6],\n",
              "       [22. ],\n",
              "       [18.7],\n",
              "       [17.4],\n",
              "       [36. ],\n",
              "       [25. ],\n",
              "       [40. ],\n",
              "       [39. ],\n",
              "       [43. ],\n",
              "       [22. ],\n",
              "       [20. ],\n",
              "       [22. ],\n",
              "       [24. ],\n",
              "       [27.5],\n",
              "       [43. ],\n",
              "       [40. ],\n",
              "       [24. ],\n",
              "       [21. ],\n",
              "       [27.5],\n",
              "       [40. ],\n",
              "       [32.8],\n",
              "       [26.5],\n",
              "       [36.5],\n",
              "       [13.7],\n",
              "       [22.7],\n",
              "       [15. ],\n",
              "       [37. ],\n",
              "       [35. ],\n",
              "       [28.7],\n",
              "       [23.5],\n",
              "       [39. ],\n",
              "       [21. ],\n",
              "       [23. ],\n",
              "       [22. ],\n",
              "       [44. ],\n",
              "       [22.5],\n",
              "       [19. ],\n",
              "       [37. ],\n",
              "       [22. ],\n",
              "       [25.6],\n",
              "       [42. ],\n",
              "       [34.5]])"
            ]
          },
          "metadata": {},
          "execution_count": 6
        }
      ]
    },
    {
      "cell_type": "code",
      "metadata": {
        "colab": {
          "base_uri": "https://localhost:8080/"
        },
        "id": "cgem8dCrMx7N",
        "outputId": "c3dc6c42-20b3-426d-bcda-30722d9f19a2"
      },
      "source": [
        "from sklearn.neighbors import KNeighborsRegressor\n",
        "# 최근접 이웃 개수를 3으로 하는 모델을 훈련\n",
        "knr = KNeighborsRegressor(n_neighbors=3)\n",
        "knr.fit(train_input,train_target)"
      ],
      "execution_count": 10,
      "outputs": [
        {
          "output_type": "execute_result",
          "data": {
            "text/plain": [
              "KNeighborsRegressor(algorithm='auto', leaf_size=30, metric='minkowski',\n",
              "                    metric_params=None, n_jobs=None, n_neighbors=3, p=2,\n",
              "                    weights='uniform')"
            ]
          },
          "metadata": {},
          "execution_count": 10
        }
      ]
    },
    {
      "cell_type": "code",
      "metadata": {
        "colab": {
          "base_uri": "https://localhost:8080/"
        },
        "id": "QNuLLWPmNgFi",
        "outputId": "2b7c2850-6780-432b-bf61-9aff656b0203"
      },
      "source": [
        "print(knr.predict([[50]]))\n",
        "# 예측값은 1033.33이지만 실제 농어의 무게는 훨씬 더 많이 나감."
      ],
      "execution_count": 12,
      "outputs": [
        {
          "output_type": "stream",
          "name": "stdout",
          "text": [
            "[1033.33333333]\n"
          ]
        }
      ]
    },
    {
      "cell_type": "code",
      "metadata": {
        "colab": {
          "base_uri": "https://localhost:8080/",
          "height": 279
        },
        "id": "p1vS2J2_Nqs2",
        "outputId": "0c557842-4df5-422a-9f1e-6090cc8dc5aa"
      },
      "source": [
        "import matplotlib.pyplot as plt\n",
        "# 50cm 농어의 최근접 이웃을 구함.\n",
        "distances, indexes = knr.kneighbors([[50]])\n",
        "# 훈련세트의 산점도 그리기\n",
        "plt.scatter(train_input,train_target)\n",
        "# 훈련세트 중에서 이웃 샘플만 다시 그리기\n",
        "plt.scatter(train_input[indexes],train_target[indexes],marker='D')\n",
        "# 50CM 농어 데이터\n",
        "plt.scatter(50,1033,marker='D')\n",
        "plt.xlabel('length')\n",
        "plt.ylabel('weight')\n",
        "plt.show()"
      ],
      "execution_count": 17,
      "outputs": [
        {
          "output_type": "display_data",
          "data": {
            "image/png": "[encoded data removed]",
            "text/plain": [
              "<Figure size 432x288 with 1 Axes>"
            ]
          },
          "metadata": {
            "needs_background": "light"
          }
        }
      ]
    },
    {
      "cell_type": "code",
      "metadata": {
        "colab": {
          "base_uri": "https://localhost:8080/"
        },
        "id": "Wi0-1-TuPl2v",
        "outputId": "deb43a30-37d0-4ad9-d9ae-c805ccd18fe0"
      },
      "source": [
        "print(np.mean(train_target[indexes]))\n",
        "# k-최근접 이웃 알고리즘은 가장 가까운 근방의 3개 모델의 평균 값을 예측값으로 주기 때문에\n",
        "# 훈련세트를 벗어나면 엉뚱한 값으로 예측될 수 있음. "
      ],
      "execution_count": 18,
      "outputs": [
        {
          "output_type": "stream",
          "name": "stdout",
          "text": [
            "1033.3333333333333\n"
          ]
        }
      ]
    },
    {
      "cell_type": "code",
      "metadata": {
        "id": "8KRJKzan-haq",
        "colab": {
          "base_uri": "https://localhost:8080/"
        },
        "outputId": "9a8d5df6-f464-4bd7-e1d3-7d6843148eae"
      },
      "source": [
        "print(knr.predict([[100]])) # 이차원 배열 "
      ],
      "execution_count": 20,
      "outputs": [
        {
          "output_type": "stream",
          "name": "stdout",
          "text": [
            "[1033.33333333]\n"
          ]
        }
      ]
    },
    {
      "cell_type": "code",
      "metadata": {
        "colab": {
          "base_uri": "https://localhost:8080/",
          "height": 265
        },
        "id": "lZ94a-IjQAAS",
        "outputId": "8beb3649-b35c-4df4-91e6-0ab8bd1f4673"
      },
      "source": [
        "# 100cm 농어의 이웃을 구함\n",
        "distances, indexes = knr.kneighbors([[100]])\n",
        "# 산점도\n",
        "plt.scatter(train_input,train_target)\n",
        "# 이웃 샘플 \n",
        "plt.scatter(train_input[indexes],train_target[indexes],marker='D')\n",
        "# 길이 100 농어 표시\n",
        "plt.scatter(100,1033,marker='^')\n",
        "plt.show()\n",
        "\n",
        "# k-최근접 이웃을 사용해 해결하려면 가장 큰 농어가 포함되도록 훈련세트를 계속해서 다시 만들어야 함.\n",
        "# 문제점 해결을 위해 ---->>>>> 선형회귀 알고리즘 사용 !!!!"
      ],
      "execution_count": 22,
      "outputs": [
        {
          "output_type": "display_data",
          "data": {
            "image/png": "[encoded data removed]",
            "text/plain": [
              "<Figure size 432x288 with 1 Axes>"
            ]
          },
          "metadata": {
            "needs_background": "light"
          }
        }
      ]
    },
    {
      "cell_type": "markdown",
      "metadata": {
        "id": "x3jGgDi54mp6"
      },
      "source": [
        "## 2) 선형회귀\n",
        "\n",
        "* 선형회귀 :특성과 타깃 사이의 관계를 잘 나타내는 선형 방정식 찾기 ! \n",
        "* 이때 특성이 하나인 경우 직선 방정식이 됨.\n",
        "\n"
      ]
    },
    {
      "cell_type": "code",
      "metadata": {
        "colab": {
          "base_uri": "https://localhost:8080/"
        },
        "id": "0cij3d-LPT4Y",
        "outputId": "c662d6e8-1544-44a1-db4f-0ca81357db99"
      },
      "source": [
        "from sklearn.linear_model import LinearRegression\n",
        "lr = LinearRegression()\n",
        "\n",
        "# 선형 회귀 모델을 훈련\n",
        "lr.fit(train_input,train_target)\n",
        "# 길이 50인 농어를 예측\n",
        "print(lr.predict([[50]])) "
      ],
      "execution_count": 52,
      "outputs": [
        {
          "output_type": "stream",
          "name": "stdout",
          "text": [
            "[1241.83860323]\n"
          ]
        }
      ]
    },
    {
      "cell_type": "code",
      "metadata": {
        "colab": {
          "base_uri": "https://localhost:8080/"
        },
        "id": "4zgiDUzwSmRP",
        "outputId": "17125b9f-0f34-4773-d867-9ce1c97b8995"
      },
      "source": [
        "print(lr.coef_, lr.intercept_)\n",
        "# lr.coef 와 lr.intercept를 모델 파라미터라고 부르며 \n",
        "# 이 책에서 사용하는 많은 머신러닝 알고리즘 훈련과정은\n",
        "# 최적 모델 파라미터를 찾는 것과 같음.  -> 모델 기반 학습 \n",
        "# 반면 k-최근접 이웃에는 모델 파라미터가 없으며 훈련세트를\n",
        "# 저장하는 것이 훈련의 전부이기 때문에 사례 기반 학습이라고 부름."
      ],
      "execution_count": 53,
      "outputs": [
        {
          "output_type": "stream",
          "name": "stdout",
          "text": [
            "[39.01714496] -709.0186449535477\n"
          ]
        }
      ]
    },
    {
      "cell_type": "code",
      "metadata": {
        "colab": {
          "base_uri": "https://localhost:8080/",
          "height": 0
        },
        "id": "NEUMDYi8Sve2",
        "outputId": "41c598aa-b5e6-49ec-b0fa-a3d8e1c9d338"
      },
      "source": [
        "# 훈련세트의 산점도 그리기\n",
        "plt.scatter(train_input,train_target)\n",
        "\n",
        "plt.plot([15,50],[15*lr.coef_+lr.intercept_,50*lr.coef_+lr.intercept_])\n",
        "plt.scatter(50,1241.8,marker='^')\n",
        "plt.xlabel('length')\n",
        "plt.ylabel('weight')\n",
        "plt.show()"
      ],
      "execution_count": 54,
      "outputs": [
        {
          "output_type": "display_data",
          "data": {
            "image/png": "[encoded data removed]",
            "text/plain": [
              "<Figure size 432x288 with 1 Axes>"
            ]
          },
          "metadata": {
            "needs_background": "light"
          }
        }
      ]
    },
    {
      "cell_type": "code",
      "metadata": {
        "colab": {
          "base_uri": "https://localhost:8080/"
        },
        "id": "IdLFPZM2UJ1z",
        "outputId": "6ce01359-35a8-4c3d-ed47-d664266c1b2d"
      },
      "source": [
        "print(lr.score(train_input,train_target))\n",
        "print(lr.score(test_input,test_target))\n",
        "\n",
        "# 훈련세트와 테스트 세트의 점수가 조금 차이남\n",
        "# 훈련세트가 테스트 세트보다 점수가 높지만 두 세트의 점수가 모두 높은 편이 아니기 때문에\n",
        "# 전체적으로 과소적합 되었다고 할 수 있음.\n",
        "# + 그래프 아래같은 경우는 회귀직선에서 매우 벗어난 형태를 보임."
      ],
      "execution_count": 55,
      "outputs": [
        {
          "output_type": "stream",
          "name": "stdout",
          "text": [
            "0.9398463339976039\n",
            "0.8247503123313558\n"
          ]
        }
      ]
    },
    {
      "cell_type": "markdown",
      "metadata": {
        "id": "3AOXPg7boyFR"
      },
      "source": [
        "### ▶ 과대적합 & 과소적합\n",
        ">*   과대적합: 훈련세트 성능이 테스트 세트 성능보다 훨씬 높은 경우  \n",
        "모델이 훈련세트에 집착하여 데이터에 내재된 거시적인 패턴을 감지하지 못함.  \n",
        "*    과소적합: 훈련 세트와 테스트 세트 성능이 모두 동일하게 낮거나 테스트 세트 성능이 오히려 더 높은 경우  \n",
        "더 복잡한 모델을 사용해 훈련세트에 잘 맞는 모델을 만들어야 함.\n"
      ]
    },
    {
      "cell_type": "markdown",
      "metadata": {
        "id": "H7C4k7MlXZKJ"
      },
      "source": [
        "## 3) 다항회귀 (다항식을 사용한 선형회귀)\n",
        "\n",
        "* 다항 회귀 : 다항식을 사용하여 특성과 타깃의 관계를 나타내며 함수는 비선형일 수 있지만 여전히 선형회귀로 표현할 수 있음.\n",
        "\n",
        "* 농어의 산점도가 직선보다는 2차곡선에 가까우므로 2차식의 그래프를 그리기 위해 길이를 제곱한 항을 훈련세트에 추가하자 ! \n",
        "\n",
        "\n",
        "\n",
        "\n",
        "\n",
        "\n",
        "\n",
        "\n",
        "\n"
      ]
    },
    {
      "cell_type": "code",
      "metadata": {
        "colab": {
          "base_uri": "https://localhost:8080/"
        },
        "id": "E2C0SUI8XM17",
        "outputId": "5189ca88-9cca-4745-c122-e281ad51697d"
      },
      "source": [
        "knr.n_neighbors = 3 # 기본값이 5였던 참고 이웃의 개수를 3으로 변경\n",
        "\n",
        "train_poly=np.column_stack((train_input**2,train_input))\n",
        "test_poly = np.column_stack((test_input**2,test_input))\n",
        "print(train_poly.shape,test_poly.shape) # train test 모두 열이 두개로 늘어남.\n"
      ],
      "execution_count": 60,
      "outputs": [
        {
          "output_type": "stream",
          "name": "stdout",
          "text": [
            "(42, 2) (14, 2)\n"
          ]
        }
      ]
    },
    {
      "cell_type": "code",
      "metadata": {
        "colab": {
          "base_uri": "https://localhost:8080/"
        },
        "id": "e1zywBYErFL-",
        "outputId": "ebb247bd-a765-45e8-91d1-b409c3e4128b"
      },
      "source": [
        "lr=LinearRegression()\n",
        "lr.fit(train_poly,train_target)\n",
        "print(lr.predict([[50**2,50]]))\n",
        "print(lr.coef_,lr.intercept_)"
      ],
      "execution_count": 61,
      "outputs": [
        {
          "output_type": "stream",
          "name": "stdout",
          "text": [
            "[1573.98423528]\n",
            "[  1.01433211 -21.55792498] 116.05021078278276\n"
          ]
        }
      ]
    },
    {
      "cell_type": "code",
      "metadata": {
        "colab": {
          "base_uri": "https://localhost:8080/",
          "height": 297
        },
        "id": "IxeQ4v0Ir_1L",
        "outputId": "7979f4a6-8970-4180-a882-377e5069857b"
      },
      "source": [
        "# 다항식을 사용한 선형회귀 - 구간별 점찍고 직선을 이어서 곡선으로 만들기 \n",
        "point = np.arange(15,50)\n",
        "plt.scatter(train_input,train_target)\n",
        "plt.plot(point, 1.01*point**2 - 21.6*point + 116.05)\n",
        "plt.scatter(50,1574,marker='^')\n",
        "plt.xlabel('length')\n",
        "plt.ylabel('weight')\n",
        "# 앞선 단순 선형회귀보다 훨씬 fit 된 그래프 완성 ! ! "
      ],
      "execution_count": 62,
      "outputs": [
        {
          "output_type": "execute_result",
          "data": {
            "text/plain": [
              "Text(0, 0.5, 'weight')"
            ]
          },
          "metadata": {},
          "execution_count": 62
        },
        {
          "output_type": "display_data",
          "data": {
            "image/png": "[encoded data removed]",
            "text/plain": [
              "<Figure size 432x288 with 1 Axes>"
            ]
          },
          "metadata": {
            "needs_background": "light"
          }
        }
      ]
    },
    {
      "cell_type": "code",
      "metadata": {
        "colab": {
          "base_uri": "https://localhost:8080/"
        },
        "id": "R9hF5vsQsxOs",
        "outputId": "24cb2f08-5a7f-4a0b-b55d-5936d6508952"
      },
      "source": [
        "print(lr.score(train_poly,train_target))\n",
        "print(lr.score(test_poly,test_target))\n",
        "\n",
        "# (훈련셋트점수<테스트세트 점수)로 인해 과소적합이 남아있음을 알 수 있음.\n",
        "# 조금 더 복잡한 모형 필요 ! ! "
      ],
      "execution_count": 63,
      "outputs": [
        {
          "output_type": "stream",
          "name": "stdout",
          "text": [
            "0.9706807451768623\n",
            "0.9775935108325122\n"
          ]
        }
      ]
    },
    {
      "cell_type": "markdown",
      "metadata": {
        "id": "yB6mzLQRdk0f"
      },
      "source": [
        "### ▶ &#10024;선형회귀로 훈련 세트 범위 밖의 샘플 예측하기 문제 해결 ! ! &#10024;"
      ]
    }
  ]
}